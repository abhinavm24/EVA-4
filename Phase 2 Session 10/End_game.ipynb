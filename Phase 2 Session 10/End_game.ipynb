{
  "nbformat": 4,
  "nbformat_minor": 0,
  "metadata": {
    "kernelspec": {
      "display_name": "Python 3",
      "language": "python",
      "name": "python3"
    },
    "language_info": {
      "codemirror_mode": {
        "name": "ipython",
        "version": 3
      },
      "file_extension": ".py",
      "mimetype": "text/x-python",
      "name": "python",
      "nbconvert_exporter": "python",
      "pygments_lexer": "ipython3",
      "version": "3.7.6"
    },
    "colab": {
      "name": "End game.ipynb",
      "provenance": [],
      "collapsed_sections": [],
      "toc_visible": true,
      "include_colab_link": true
    },
    "accelerator": "GPU"
  },
  "cells": [
    {
      "cell_type": "markdown",
      "metadata": {
        "id": "view-in-github",
        "colab_type": "text"
      },
      "source": [
        "<a href=\"https://colab.research.google.com/github/karthikvijayakumar/EVA/blob/master/Phase%202%20Session%2010/End_game.ipynb\" target=\"_parent\"><img src=\"https://colab.research.google.com/assets/colab-badge.svg\" alt=\"Open In Colab\"/></a>"
      ]
    },
    {
      "cell_type": "markdown",
      "metadata": {
        "id": "vpgQqPDOuOTp",
        "colab_type": "text"
      },
      "source": [
        "# Imports"
      ]
    },
    {
      "cell_type": "code",
      "metadata": {
        "id": "eGJBR6vXuOT7",
        "colab_type": "code",
        "colab": {}
      },
      "source": [
        "import matplotlib.pyplot as plt\n",
        "import numpy as np\n",
        "import os\n",
        "import random\n",
        "import time\n",
        "\n",
        "import torch\n",
        "import torch.nn as nn\n",
        "import torch.nn.functional as F\n",
        "from torch.autograd import Variable\n",
        "\n",
        "from PIL import Image, ImageOps, ImageDraw\n",
        "from collections import deque\n",
        "\n",
        "import gym\n",
        "from gym import error, spaces, utils, wrappers\n",
        "\n",
        "from tqdm import tqdm, trange\n",
        "%matplotlib inline"
      ],
      "execution_count": 0,
      "outputs": []
    },
    {
      "cell_type": "markdown",
      "metadata": {
        "id": "nwL2RxKzuOUr",
        "colab_type": "text"
      },
      "source": [
        "# Custom gym environment"
      ]
    },
    {
      "cell_type": "code",
      "metadata": {
        "id": "oX4qi5q7uOUt",
        "colab_type": "code",
        "colab": {}
      },
      "source": [
        "class CityMap(gym.Env):\n",
        "    metadata = {'render.modes': ['human', 'rgb_array']}\n",
        "    reward_range = (-float('inf'), float('inf'))\n",
        "    spec = None\n",
        "    \n",
        "    observation_window_size = 80\n",
        "    # observation_window_size is the side length of the square surrounding the car\n",
        "    # The car would see (observation_window_size/2) ahead and behind and (observation_window_size/2) to the left and right\n",
        "    \n",
        "    max_action = np.float64(1.0)\n",
        "\n",
        "    max_turn_radians = np.pi/36.0\n",
        "    # pi/6 radians = 180/36 = 5 degrees\n",
        "    # The car can turn 5 degrees to the left or right    \n",
        "    \n",
        "    distance_threshold_done = 30\n",
        "    # Distance to target to reach before considering the episode done\n",
        "    \n",
        "    goal_circle_radius = int(distance_threshold_done/2)\n",
        "\n",
        "    #Max steps before we call the episode done\n",
        "    max_episode_steps = 2500\n",
        "    \n",
        "    def __init__(self, citymap, roadmask, car_image, render_pov = 'map'):\n",
        "        self.action_space = spaces.Box(low = np.float64(-self.max_action), high = np.float64(self.max_action), shape = (1,) ) \n",
        "        # Action space is how many degrees to turn the car in radians\n",
        "        \n",
        "        self.observation_space = spaces.Box(low = 0, high = 255, shape = (self.observation_window_size, self.observation_window_size) ) \n",
        "        # All combinations of white and black pixels of observation_window_size x observation_window_size\n",
        "        \n",
        "        self.state = None\n",
        "        \n",
        "        self.citymap = citymap.copy()\n",
        "        self.roadmask = roadmask.copy()\n",
        "        self.car_image = car_image.copy()\n",
        "        self.render_pov = render_pov\n",
        "        \n",
        "        #Find size of the roadmask for reference later\n",
        "        self.roadmask_size_x, self.roadmask_size_y = self.roadmask.getbbox()[2:4]\n",
        "        \n",
        "        # Pad the road mask image to allow for rotations\n",
        "        # Amount of padding required = ( diagonal length of the observation window )/2\n",
        "        self.padding_size = int(self.observation_window_size/np.sqrt(2))\n",
        "        padding = ( self.padding_size, self.padding_size, self.padding_size, self.padding_size )\n",
        "        self.roadmaskpadded = ImageOps.expand( self.roadmask, padding, fill = 255 ) # Pad and fill with sand\n",
        "        \n",
        "        #Set goal point\n",
        "        self.goal_x = 1154\n",
        "        self.goal_y = 158\n",
        "        \n",
        "        self.car_pos_x = 0\n",
        "        self.car_pos_y = 0\n",
        "\n",
        "        self.num_steps = 0\n",
        "        \n",
        "        self.reset()\n",
        "\n",
        "    \"\"\"\n",
        "        Parameters:\n",
        "        \n",
        "        Returns:\n",
        "            ( next_state, reward, done, info )\n",
        "        \n",
        "    \"\"\"\n",
        "    def step(self, action):\n",
        "\n",
        "        # Type check to ensure we get a scalar\n",
        "        assert ((type(action) == np.float32) | (type(action) == np.float64)), \"Input type should be a float32 or float64\"\n",
        "        \n",
        "        # Things to compute\n",
        "        # 1. Next position         \n",
        "        # 2. Reward on moving to next position\n",
        "        # 3. Orientation of car towards goal\n",
        "        # 4. Combine Screen grab from next position and orientation to produce the next state\n",
        "        # 5. Update number of steps taken\n",
        "        # 6. Is the episode done        \n",
        "        # 7. Any info to pass on to the agent\n",
        "\n",
        "        # 1. Next position\n",
        "        # From (pos_x, pos_y) we move forward with 'speed' steps in the direction 'angle+action*max_turn_radians'\n",
        "        # The action given by the agent is from -1 to 1. The env maps the action to degrees of turn\n",
        "        # New angle of car\n",
        "        self.car_angle = self.car_angle + (action*self.max_turn_radians)\n",
        "        if(self.car_angle < 0):\n",
        "            self.car_angle = (2*np.pi) + self.car_angle\n",
        "        elif(self.car_angle > (2*np.pi)):\n",
        "            self.car_angle = self.car_angle - (2*np.pi)\n",
        "        \n",
        "        # Car speed depends on whether we are riding on sand or not\n",
        "        speed = 5 if self.roadmask.getpixel(( self.car_pos_x, self.car_pos_y )) == 0 else 2\n",
        "        \n",
        "        displacement_x = speed * np.sin( self.car_angle )\n",
        "        displacement_y = -1 * speed * np.cos( self.car_angle )\n",
        "        # Displacement y is negative since the top of the frame is y=0\n",
        "        # Hence if the car is pointing upwards ( oriented at 0 degrees ) then the y values would decrease\n",
        "        \n",
        "        old_car_pos_x = self.car_pos_x\n",
        "        old_car_pos_y = self.car_pos_y\n",
        "\n",
        "        self.car_pos_x = self.car_pos_x + displacement_x\n",
        "        self.car_pos_y = self.car_pos_y + displacement_y\n",
        "        \n",
        "        # Clip position to boundaries of the image\n",
        "        self.car_pos_x = np.clip(self.car_pos_x, 0, self.roadmask_size_x-1)\n",
        "        self.car_pos_y = np.clip(self.car_pos_y, 0, self.roadmask_size_y-1)\n",
        "        \n",
        "        # 2. Reward on moving to next position\n",
        "        \n",
        "        new_distance_from_goal = np.sqrt( (self.car_pos_x - self.goal_x)**2 + (self.car_pos_y - self.goal_y)**2 )\n",
        "        \n",
        "        pixel_value_at_car_pos = self.roadmask.getpixel((self.car_pos_x, self.car_pos_y))\n",
        "        \n",
        "        if( pixel_value_at_car_pos == 1 ):\n",
        "            #Currently on sand\n",
        "            # reward = -1\n",
        "            reward = -100 * ((new_distance_from_goal+100)/1650) # 1650 is the length of the diagonal of the image\n",
        "        elif( new_distance_from_goal > self.distance_from_goal ):\n",
        "            # reward = -0.2\n",
        "            reward = -10.2 * (new_distance_from_goal/1650)\n",
        "        elif ( new_distance_from_goal == self.distance_from_goal ):\n",
        "            # In one of the corners and driving into the corner\n",
        "            reward = -100\n",
        "        else:\n",
        "            # new_distance_from_goal < self.distance_from_goal\n",
        "            # reward = 0.1\n",
        "            reward = 0.2 * ((1650-new_distance_from_goal)/1650)\n",
        "\n",
        "        # Change reward on termination conditions\n",
        "\n",
        "        if( new_distance_from_goal < self.distance_threshold_done ):\n",
        "            # Give high +ve reward when it has reached the goal\n",
        "            reward = 100\n",
        "        elif( self.num_steps == self.max_episode_steps ):\n",
        "            # Give high -ve reward when the num steps has crossed max steps\n",
        "            reward = -1000\n",
        "        elif(\n",
        "            ( (old_car_pos_x-self.car_pos_x) == 0 and (self.car_pos_x == 0 or self.car_pos_x >= self.roadmask_size_x-1) ) or \n",
        "            ( (old_car_pos_y-self.car_pos_y) == 0 and (self.car_pos_y == 0 or self.car_pos_y >= self.roadmask_size_y-1) ) \n",
        "            ):\n",
        "            # Give high -ve reward when hitting a wall\n",
        "            reward = -1000\n",
        "\n",
        "        self.distance_from_goal = new_distance_from_goal\n",
        "\n",
        "        # 3. Compute orientation of car towards goal        \n",
        "\n",
        "        # 4. Combine screen grab from current position with orientation and distance to goal to form next state\n",
        "        next_state = ( self._extract_current_frame(), self._compute_orientation_towards_goal() , new_distance_from_goal )\n",
        "\n",
        "        # 5. Update number of steps taken\n",
        "        self.num_steps += 1\n",
        "        \n",
        "        # 6. Is the episode done?\n",
        "        \n",
        "        if( \n",
        "            new_distance_from_goal < self.distance_threshold_done  or \n",
        "            self.num_steps == self.max_episode_steps or\n",
        "            ( old_car_pos_x-self.car_pos_x == 0 and old_car_pos_y - self.car_pos_y == 0)\n",
        "            ):\n",
        "            # Either we have reached the target position or we have exceed the max steps for this episode\n",
        "            done = 1\n",
        "            self.reset()\n",
        "            next_state = (self._zero_screen_grab(),0,0)\n",
        "            # Return a zero screen grab, zero orientation and zero distance in case of termination\n",
        "            \n",
        "        else:\n",
        "            done = 0\n",
        "\n",
        "        # 7. Any info to pass on to the agent\n",
        "\n",
        "        # print(\n",
        "        #     \"x: \"+ str(self.car_pos_x.round(0)) + \n",
        "        #     \"; y: \" + str(self.car_pos_y.round(0)) + \n",
        "        #     \"; angle(deg): \" + str(np.round(self.car_angle*180/np.pi),2) + \n",
        "        #     \"; action: \" + str(np.round(action*180/np.pi,2)) +\n",
        "        #     \"; reward: \" + str(reward)\n",
        "        #     )\n",
        "        \n",
        "        return next_state, reward, done, {}\n",
        "\n",
        "    \"\"\"\n",
        "        Zero screen grab for episode termination conditions\n",
        "    \"\"\"\n",
        "    def _zero_screen_grab(self):\n",
        "        screen_grab = np.expand_dims( \n",
        "                np.expand_dims( \n",
        "                    np.zeros( int(self.observation_window_size/2)**2 ).reshape(\n",
        "                        ( int(self.observation_window_size/2), int(self.observation_window_size/2) )\n",
        "                        ),\n",
        "                    axis = 0 \n",
        "                ),\n",
        "                axis = 0 )\n",
        "        return screen_grab\n",
        "\n",
        "    \"\"\"\n",
        "        Definition of orientation:\n",
        "            With respect to the axes of car ( car's forward pointing upwards ), at how many degrees is the goal\n",
        "\n",
        "        We compute this in two steps:\n",
        "        Step 1: At what angle is the goal with respect to the vertical\n",
        "            Angle of goal wrt horizontal is tan_inverse( distance in y axis / distance in x axis )\n",
        "            Angle of goal wrt vertical is 90 + the above = 90 + tan_inverse( distance in y axis / distance in x axis )        \n",
        "        Step 2: Subtract the angle of the car from the above quantity to get angle relative to the car axes\n",
        "            Angle of goal wrt car = 90 + tan_inverse( distance in y axis / distance in x axis ) - car angle wrt vertical\n",
        "    \"\"\"\n",
        "    def _compute_orientation_towards_goal(self):\n",
        "        orientation = np.pi/2.0 + np.arctan2( self.goal_y - self.car_pos_y, self.goal_x - self.car_pos_x ) - self.car_angle\n",
        "        return orientation\n",
        "    \n",
        "    \"\"\"\n",
        "        Simple euclidean distance computation\n",
        "        Abstracted to a function to avoid rewriting in multiple places\n",
        "    \"\"\"\n",
        "    def _compute_distance_from_goal(self):\n",
        "        return np.sqrt( (self.car_pos_x - self.goal_x)**2 + (self.car_pos_y - self.goal_y)**2 ) \n",
        "\n",
        "    \"\"\"\n",
        "        Extracts the frame that the agent/car currently sees\n",
        "        With respect to the frame extracted the car is always pointing upward\n",
        "        Keeping the orientation fixed is key since else for the same scene( screen grab ), the car can be in different orientations \n",
        "        and hence should take different actions\n",
        "        \n",
        "        For example take the following case \n",
        "            Environment: A single straight road with the car in the middle on the road\n",
        "            Goal: Left end of the road and outside the visibility of the agent\n",
        "        \n",
        "            The car can be oriented left or right and the goal can be to the left or right\n",
        "            <<< NEED TO THINK OF A BETTER EXAMPLE >>>\n",
        "            \n",
        "        Parameters:\n",
        "            None\n",
        "        \n",
        "        Returns:\n",
        "            img - Numpy array of shape ( observation_window_size, observation_window_size )\n",
        "    \"\"\"\n",
        "    def _extract_current_frame(self):\n",
        "        # We know the current position of the car\n",
        "        # Step 1: Extract a square of size observation_window_size*sqrt(2) surrounding the car ( Call this rough cut )\n",
        "        # Step 2: Rotate the rough cut image around the center by angle of the car\n",
        "        # Step 3: Extract a square of size observation_window_size around the center\n",
        "        \n",
        "        \n",
        "        # Step 1: Extract a square of size observation_window_size*sqrt(2) surrounding the car ( Call this rough cut )\n",
        "        # We need to use the padded version of the road mask here\n",
        "        # Hence we add self.padding_size to the x,y position of the car\n",
        "        bounding_box_rough_cut = ( self.car_pos_x, self.car_pos_y, self.car_pos_x+(2*self.padding_size), self.car_pos_y+(2*self.padding_size) )\n",
        "        # print(\"Bounding box of rough cut: \" +str(bounding_box_rough_cut))\n",
        "\n",
        "        rough_cut = self.roadmaskpadded.crop(bounding_box_rough_cut)\n",
        "        \n",
        "        # Step 2: Rotate the rough cut image around the center by angle of the car\n",
        "        \n",
        "        rough_cut_rotated = rough_cut.rotate( self.car_angle * (180/np.pi) )\n",
        "        # PIL's rotate function:\n",
        "        #  - takes input in degrees ( 180 degrees = pi radians; x radians = x*(180/pi) degrees )\n",
        "        #  - by default rotates around the center of the image\n",
        "        #  - rotates anti-clockwise\n",
        "        \n",
        "        # Step 3: Extract a square of size observation_window_size around the center\n",
        "        # Center of the rough cut image is ( rough_cut_size/2, rough_cut_size/2 )\n",
        "        \n",
        "        bounding_box_current_frame = ( \n",
        "            self.padding_size - (self.observation_window_size/2), \n",
        "            self.padding_size - (self.observation_window_size/2), \n",
        "            self.padding_size + (self.observation_window_size/2), \n",
        "            self.padding_size + (self.observation_window_size/2)\n",
        "        )\n",
        "        \n",
        "        current_frame = rough_cut_rotated.crop(bounding_box_current_frame)\n",
        "        \n",
        "        # Scaling down the image to half the dimensions for optimising memory and simplifying input to agent\n",
        "        current_frame = current_frame.resize((int(self.observation_window_size/2), int(self.observation_window_size/2)) )\n",
        "\n",
        "        return np.expand_dims( np.expand_dims( np.asarray(current_frame)/255, axis = 0 ), axis = 0 )\n",
        "    \n",
        "    def reset(self):\n",
        "        #Randomly initialise the starting position and set velocity\n",
        "        self.car_pos_x = np.random.randint( 0, self.roadmask_size_x )\n",
        "        self.car_pos_y = np.random.randint( 0, self.roadmask_size_y )\n",
        "        # Car position is measured with respect to the road mask ( without padding ). (0,0) is top left\n",
        "        self.car_angle = np.random.default_rng().random() * np.pi * 2.0\n",
        "        # Initial angle ranges from 0 to 2*pi\n",
        "        # Angle measures rotation from vertical axis (i.e angle = 0 when car is heading upwards in the map)\n",
        "        \n",
        "        #Distance from goal\n",
        "        self.distance_from_goal = self._compute_distance_from_goal()\n",
        "\n",
        "        #Set num_steps to 0\n",
        "        self.num_steps = 0\n",
        "        \n",
        "        return (self._extract_current_frame(), self._compute_orientation_towards_goal(), self.distance_from_goal )\n",
        "\n",
        "\n",
        "    def render(self, mode='human', close=False):        \n",
        "        #Build image of map with goal and car overlaid\n",
        "        \n",
        "        #Create a copy of the map\n",
        "        map_copy = self.citymap.copy()\n",
        "        \n",
        "        #Draw a circle over the goal\n",
        "        draw = ImageDraw.Draw(map_copy)\n",
        "        draw.ellipse( \n",
        "            (self.goal_x - self.goal_circle_radius, \n",
        "             self.goal_y-self.goal_circle_radius, \n",
        "             self.goal_x+self.goal_circle_radius, \n",
        "             self.goal_y+self.goal_circle_radius\n",
        "            ), \n",
        "            fill = 'red', \n",
        "            outline = 'red', \n",
        "            width = 1 \n",
        "        )\n",
        "        del(draw)\n",
        "        \n",
        "        # Create a copy of the car and rotate it to the currrent orientation according to the env state\n",
        "        # Using 90 - curr_angle since the car image oriented horizontally while our angles are from the vertical\n",
        "        car_image_copy = self.car_image.copy().rotate( 360 - (self.car_angle*180/np.pi), expand = True )\n",
        "        car_size_x, car_size_y = car_image_copy.getbbox()[2:4] # The last 2 coordinates represent the size of the car\n",
        "        \n",
        "        #Overlay the car on the map ( copy )\n",
        "        map_copy.paste( car_image_copy, box = ( int(self.car_pos_x - (car_size_x/2)), int(self.car_pos_y - (car_size_y/2)) ) )\n",
        "        del(car_image_copy)\n",
        "        del(car_size_x)\n",
        "        del(car_size_y)       \n",
        "                \n",
        "        if mode == 'rgb_array':\n",
        "            if(self.render_pov == 'map'):            \n",
        "                return np.asarray(map_copy)\n",
        "            elif(self.render_pov == 'car'):\n",
        "                current_frame = Image.fromarray( self._extract_current_frame().squeeze(0).squeeze(0)*255 ).convert('RGB')\n",
        "                return np.asarray(current_frame)\n",
        "#         elif mode == 'human':\n",
        "#             if self.viewer is None:\n",
        "#                 self.viewer = rendering.SimpleImageViewer()\n",
        "# #             self.viewer.imshow(np.asarray(current_frame)*255)\n",
        "#             self.viewer.imshow(np.asarray(map_copy))\n",
        "#             return self.viewer.isopen\n",
        "    \n",
        "    def close(self):\n",
        "        pass\n",
        "        # if self.viewer is not None:\n",
        "        #     self.viewer.close()\n",
        "        #     print(self.viewer.isopen)\n",
        "        #     self.viewer = None"
      ],
      "execution_count": 0,
      "outputs": []
    },
    {
      "cell_type": "markdown",
      "metadata": {
        "id": "nsu91_DzuOVb",
        "colab_type": "text"
      },
      "source": [
        "# Model helpers"
      ]
    },
    {
      "cell_type": "code",
      "metadata": {
        "id": "kWQiadkRuOVs",
        "colab_type": "code",
        "colab": {}
      },
      "source": [
        "class ReplayBuffer(object):\n",
        "\n",
        "  def __init__(self, max_size=1e6):\n",
        "    self.storage = []\n",
        "    self.max_size = max_size\n",
        "    self.ptr = 0\n",
        "\n",
        "  def add(self, transition):\n",
        "    if len(self.storage) == self.max_size:\n",
        "      self.storage[int(self.ptr)] = transition\n",
        "      self.ptr = (self.ptr + 1) % self.max_size\n",
        "    else:\n",
        "      self.storage.append(transition)\n",
        "\n",
        "  def sample(self, batch_size):\n",
        "    sample_tuples = random.sample(self.storage, batch_size)\n",
        "    batch_screen, batch_orientation, batch_dist_goal, batch_next_screen, batch_next_orientation, batch_next_dist_goal, batch_actions, batch_rewards, batch_dones = tuple(zip(*sample_tuples))\n",
        "\n",
        "    return batch_screen, batch_orientation, batch_dist_goal, batch_next_screen, batch_next_orientation, batch_next_dist_goal, batch_actions, batch_rewards, batch_dones\n",
        "\n",
        "def evaluate_policy(policy, env, eval_episodes=3):\n",
        "  avg_reward = 0.\n",
        "  for _ in range(eval_episodes):\n",
        "    obs = env.reset()\n",
        "    done = False\n",
        "    while not done:\n",
        "      action = policy.select_action(obs)\n",
        "      obs, reward, done, _ = env.step(action)\n",
        "      avg_reward += reward\n",
        "  avg_reward /= eval_episodes\n",
        "  print (\"---------------------------------------\")\n",
        "  print (\"Average Reward over the Evaluation Step: %f\" % (avg_reward))\n",
        "  print (\"---------------------------------------\")\n",
        "  return avg_reward"
      ],
      "execution_count": 0,
      "outputs": []
    },
    {
      "cell_type": "markdown",
      "metadata": {
        "id": "-wkltbrJuOWg",
        "colab_type": "text"
      },
      "source": [
        "# Model classes"
      ]
    },
    {
      "cell_type": "code",
      "metadata": {
        "id": "Sh14D50ouOWj",
        "colab_type": "code",
        "colab": {}
      },
      "source": [
        "class Actor(nn.Module):\n",
        "    def __init__(self, state_dim, action_dim, max_action):\n",
        "        super(Actor, self).__init__()\n",
        "\n",
        "        self.conv1 = nn.Conv2d(1, 4, kernel_size=3,padding = 1, stride =2)\n",
        "        self.bn1 = nn.BatchNorm2d(4)\n",
        "        self.conv2 = nn.Conv2d(4,8, kernel_size=3, padding = 1, stride =2)\n",
        "        self.bn2 = nn.BatchNorm2d(8)\n",
        "        self.conv3 = nn.Conv2d(8,16, kernel_size=3, padding = 1, stride =2)\n",
        "        self.bn3 = nn.BatchNorm2d(16)\n",
        "        self.conv4 = nn.Conv2d(16, 32, kernel_size=3)\n",
        "        self.bn4 = nn.BatchNorm2d(32)\n",
        "        self.head = nn.Linear(32+2, action_dim)\n",
        "        # 32 channels from the conv layers, 2 inputs - orientation and distance from goal\n",
        "        self.max_action = max_action\n",
        "\n",
        "    def forward(self, screen, orientation, dist_goal):\n",
        "        x = F.relu(self.bn1(self.conv1(screen)))\n",
        "        x = F.relu(self.bn2(self.conv2(x)))\n",
        "        x = F.relu(self.bn3(self.conv3(x)))\n",
        "        x = F.relu(self.bn4(self.conv4(x)))\n",
        "        x = F.avg_pool2d( x, 3 )\n",
        "        x = x.view(x.size(0), -1)\n",
        "        \n",
        "        #Concatenate orientation and distance to goal with the output of the convolutional layers\n",
        "        x = torch.cat([x, orientation, dist_goal], 1)\n",
        "\n",
        "        return self.max_action * torch.tanh(self.head(x.view( x.size(0),-1)))\n",
        "    \n",
        "class Critic(nn.Module):\n",
        "\n",
        "  def __init__(self, state_dim, action_dim, max_action):\n",
        "    super(Critic, self).__init__()\n",
        "    self.max_action = max_action\n",
        "        \n",
        "    # Defining the first Critic neural network\n",
        "    self.critic1_conv1 = nn.Conv2d(1, 4, kernel_size=3,padding = 1, stride =2)\n",
        "    self.critic1_bn1 = nn.BatchNorm2d(4)\n",
        "    self.critic1_conv2 = nn.Conv2d(4,8, kernel_size=3, padding = 1, stride =2)\n",
        "    self.critic1_bn2 = nn.BatchNorm2d(8)\n",
        "    self.critic1_conv3 = nn.Conv2d(8,16, kernel_size=3, padding = 1, stride =2)\n",
        "    self.critic1_bn3 = nn.BatchNorm2d(16)\n",
        "    self.critic1_conv4 = nn.Conv2d(16, 32, kernel_size=3)\n",
        "    self.critic1_bn4 = nn.BatchNorm2d(32)\n",
        "    self.critic1_head = nn.Linear(32+2+1, 1)\n",
        "    # 32 channels from the conv layers, 2 inputs - orientation and distance from goal, 1 input - action\n",
        "    # Critic gives out only 1 value hence the output dimension is one\n",
        "    # Critic also takes action as input which is a scalar, hence adding 1 to the output of the conv layers\n",
        "    \n",
        "    # Defining the second Critic neural network\n",
        "    self.critic2_conv1 = nn.Conv2d(1, 4, kernel_size=3,padding = 1, stride =2)\n",
        "    self.critic2_bn1 = nn.BatchNorm2d(4)\n",
        "    self.critic2_conv2 = nn.Conv2d(4,8, kernel_size=3, padding = 1, stride =2)\n",
        "    self.critic2_bn2 = nn.BatchNorm2d(8)\n",
        "    self.critic2_conv3 = nn.Conv2d(8,16, kernel_size=3, padding = 1, stride =2)\n",
        "    self.critic2_bn3 = nn.BatchNorm2d(16)\n",
        "    self.critic2_conv4 = nn.Conv2d(16, 32, kernel_size=3)\n",
        "    self.critic2_bn4 = nn.BatchNorm2d(32)\n",
        "    self.critic2_head = nn.Linear(32+2+1, 1)\n",
        "    # 32 channels from the conv layers, 2 inputs - orientation and distance from goal, 1 input - action\n",
        "    # Critic gives out only 1 value hence the output dimension is one\n",
        "    # Critic also takes action as input which is a scalar, hence adding 1 to the output of the conv layers\n",
        "\n",
        "  def forward(self, screen, orientation, dist_goal, action):\n",
        "    ###############\n",
        "    ## Critic 1\n",
        "    ###############\n",
        "    # Pass through convolutional layers\n",
        "    x1 = F.relu(self.critic1_bn1(self.critic1_conv1(screen)))\n",
        "    x1 = F.relu(self.critic1_bn2(self.critic1_conv2(x1)))\n",
        "    x1 = F.relu(self.critic1_bn3(self.critic1_conv3(x1)))\n",
        "    x1 = F.relu(self.critic1_bn4(self.critic1_conv4(x1)))\n",
        "    x1 = F.avg_pool2d( x1, 3 ) \n",
        "    x1 = x1.view(x1.size(0), -1)\n",
        "    \n",
        "    #Concatenate action with the output of the convolutional layers\n",
        "    x1 = torch.cat([x1, orientation, dist_goal, action], 1)\n",
        "    \n",
        "    #Pass through FC layer\n",
        "    x1 = self.critic1_head(x1)\n",
        "\n",
        "    ###############\n",
        "    # Critic 2\n",
        "    ###############\n",
        "    \n",
        "    #Pass through convolutional layers\n",
        "    x2 = F.relu(self.critic2_bn1(self.critic2_conv1(screen)))\n",
        "    x2 = F.relu(self.critic2_bn2(self.critic2_conv2(x2)))\n",
        "    x2 = F.relu(self.critic2_bn3(self.critic2_conv3(x2)))\n",
        "    x2 = F.relu(self.critic2_bn4(self.critic2_conv4(x2)))\n",
        "    x2 = F.avg_pool2d( x2, 3 ) \n",
        "    x2 = x2.view(x2.size(0), -1)\n",
        " \n",
        "    #Concatenate action with the output of the convolutional layers\n",
        "    x2 = torch.cat([x2, orientation, dist_goal, action], 1)\n",
        "    \n",
        "    #Pass through FC layer\n",
        "    x2 = self.critic2_head(x2)\n",
        "    \n",
        "    return x1, x2\n",
        "\n",
        "  def Q1(self, screen, orientation, dist_goal, action):   \n",
        "    ###############\n",
        "    ## Critic 1\n",
        "    ###############\n",
        "    # Pass through convolutional layers\n",
        "    x1 = F.relu(self.critic1_bn1(self.critic1_conv1(screen)))\n",
        "    x1 = F.relu(self.critic1_bn2(self.critic1_conv2(x1)))\n",
        "    x1 = F.relu(self.critic1_bn3(self.critic1_conv3(x1)))\n",
        "    x1 = F.relu(self.critic1_bn4(self.critic1_conv4(x1)))\n",
        "    x1 = F.avg_pool2d( x1, 3 )\n",
        "    x1 = x1.view(x1.size(0), -1)\n",
        " \n",
        "    #Concatenate action with the output of the convolutional layers\n",
        "    x1 = torch.cat([x1, orientation, dist_goal, action], 1)\n",
        "    \n",
        "    #Pass through FC layer\n",
        "    x1 = self.critic1_head(x1)\n",
        "    \n",
        "    return x1\n",
        "\n",
        "\n",
        "class TD3(object):\n",
        "  \n",
        "  def __init__(self, state_dim, action_dim, max_action, device):\n",
        "    self.device = device\n",
        "    self.actor = Actor(state_dim, action_dim, max_action).to(self.device)\n",
        "    self.actor_target = Actor(state_dim, action_dim, max_action).to(self.device)\n",
        "    self.actor_target.load_state_dict(self.actor.state_dict())\n",
        "    self.actor_optimizer = torch.optim.Adam(self.actor.parameters())\n",
        "    self.critic = Critic(state_dim, action_dim, max_action).to(self.device)\n",
        "    self.critic_target = Critic(state_dim, action_dim, max_action).to(self.device)\n",
        "    self.critic_target.load_state_dict(self.critic.state_dict())\n",
        "    self.critic_optimizer = torch.optim.Adam(self.critic.parameters())\n",
        "    self.max_action = max_action\n",
        "\n",
        "  \"\"\"\n",
        "    Input params:\n",
        "      state - Tuple with 3 components ( screen, action, orientation )\n",
        "  \"\"\"\n",
        "  def select_action(self, state):\n",
        "    screen, orientation, dist_goal = state\n",
        "    screen = torch.Tensor(screen).to(self.device)\n",
        "    orientation = torch.Tensor([orientation]).view(-1,1).to(self.device) \n",
        "    dist_goal = torch.Tensor([dist_goal]).view(-1,1).to(self.device)\n",
        "    return self.actor(screen,orientation,dist_goal).detach().cpu().data.numpy().flatten()[0]\n",
        "\n",
        "  def train(self, replay_buffer, iterations, batch_size=100, discount=0.99, tau=0.005, policy_noise=0.2, noise_clip=0.5, policy_freq=2):\n",
        "    \n",
        "    # print( \"Replay buffer size at beginning of call to train: \" + str(len(replay_buffer.storage)) )\n",
        "    actor_conv1_frozen = self.actor.conv1.weight.data.clone().detach()\n",
        "    actor_conv2_frozen = self.actor.conv2.weight.data.clone().detach()\n",
        "    actor_head_frozen = self.actor.head.weight.data.clone().detach()\n",
        "\n",
        "    for it in trange(iterations, desc = \"TD3 train function loop\"):\n",
        "      # print(\"Training iteration local: \" + str(it))\n",
        "      # Step 4: We sample a batch of transitions (s, s’, a, r) from the memory\n",
        "      # batch_states, batch_next_states, batch_actions, batch_rewards, batch_dones = replay_buffer.sample(batch_size)\n",
        "      batch_screen, batch_orientation, batch_dist_goal, batch_next_screen, batch_next_orientation, batch_next_dist_goal, batch_actions, batch_rewards, batch_dones = replay_buffer.sample(batch_size)\n",
        "      \n",
        "      # Each element obtained from the replay_buffer is a np array\n",
        "      # Each element of the batch_states, batch_next_states is of the shape (1,1,size,size)\n",
        "      # Batch_states and batch_next_states have shapes (batch_size,1,1,size,size)\n",
        "      # What we want to feed to the conv networks is (batch_size, 1, size, size)\n",
        "      # torch.Tensor(batch_states) gives us a tensor of the shape (batch_size,1,1,size,size)\n",
        "      # Hence we squeeze out the first dimension ( zero'th dimension of size batch_size is intact )\n",
        "\n",
        "      # Each element of batch_rewards, batch_actions, batch_dones is a scalar\n",
        "      # We need to give a column vector to pytorch to compute losses\n",
        "      # Hence scalars go through a reshape(-1,1) ( eg: [1,2,3] to [[1],[2],[3]] )\n",
        "\n",
        "      screen = torch.Tensor(batch_screen).squeeze(1).to(self.device)\n",
        "      orientation = torch.Tensor(batch_orientation).view(-1,1).to(self.device) #Convert row vector to column vector eg: [1,2,3] to [[1],[2],[3]]\n",
        "      dist_goal = torch.Tensor(batch_dist_goal).view(-1,1).to(self.device) #Convert row vector to column vector eg: [1,2,3] to [[1],[2],[3]]\n",
        "      next_screen = torch.Tensor(batch_next_screen).squeeze(1).to(self.device) \n",
        "      next_orientation = torch.Tensor(batch_next_orientation).view(-1,1).to(self.device) #Convert row vector to column vector eg: [1,2,3] to [[1],[2],[3]]\n",
        "      next_dist_goal = torch.Tensor(batch_next_dist_goal).view(-1,1).to(self.device) #Convert row vector to column vector eg: [1,2,3] to [[1],[2],[3]]\n",
        "      action = torch.Tensor(batch_actions).view(-1,1).to(self.device) #Convert row vector to column vector eg: [1,2,3] to [[1],[2],[3]]\n",
        "      reward = torch.Tensor(batch_rewards).view(-1,1).to(self.device) #Convert row vector to column vector eg: [1,2,3] to [[1],[2],[3]]\n",
        "      done = torch.Tensor(batch_dones).view(-1,1).to(self.device) #Convert row vector to column vector eg: [1,2,3] to [[1],[2],[3]]\n",
        "      \n",
        "      # Step 5: From the next state s’, the Actor target plays the next action a’\n",
        "      next_action = self.actor_target(next_screen, next_orientation, next_dist_goal)\n",
        "      \n",
        "      # Step 6: We add Gaussian noise to this next action a’ and we clamp it in a range of values supported by the environment\n",
        "      noise_distribution = torch.distributions.normal.Normal(0, policy_noise)\n",
        "      noise = noise_distribution.sample(torch.Size([batch_size])).clamp(-noise_clip,noise_clip).view(-1,1).to(self.device)\n",
        "      next_action = (next_action + noise).clamp(-self.max_action, self.max_action)\n",
        "        \n",
        "      # Step 7: The two Critic targets take each the couple (s’, a’) as input and return two Q-values Qt1(s’,a’) and Qt2(s’,a’) as outputs\n",
        "      target_Q1, target_Q2 = self.critic_target(next_screen, next_orientation, next_dist_goal, next_action)\n",
        "      \n",
        "      # Step 8: We keep the minimum of these two Q-values: min(Qt1, Qt2)\n",
        "      target_Q = torch.min(target_Q1, target_Q2)\n",
        "      \n",
        "      # Step 9: We get the final target of the two Critic models, which is: Qt = r + γ * min(Qt1, Qt2), where γ is the discount factor\n",
        "      target_Q = reward + ((1 - done) * discount * target_Q).detach()\n",
        "      \n",
        "      # Step 10: The two Critic models take each the couple (s, a) as input and return two Q-values Q1(s,a) and Q2(s,a) as outputs\n",
        "      current_Q1, current_Q2 = self.critic(screen, orientation, dist_goal, action)\n",
        "      \n",
        "      # Step 11: We compute the loss coming from the two Critic models: Critic Loss = MSE_Loss(Q1(s,a), Qt) + MSE_Loss(Q2(s,a), Qt)\n",
        "      critic_loss = F.mse_loss(current_Q1, target_Q) + F.mse_loss(current_Q2, target_Q)\n",
        "      \n",
        "      # Step 12: We backpropagate this Critic loss and update the parameters of the two Critic models with a SGD optimizer\n",
        "      self.critic_optimizer.zero_grad()\n",
        "      critic_loss.backward()\n",
        "      self.critic_optimizer.step()\n",
        "      \n",
        "      # Step 13: Once every two iterations, we update our Actor model by performing gradient ascent on the output of the first Critic model\n",
        "      if it % policy_freq == 0:        \n",
        "\n",
        "        actor_loss = -self.critic.Q1(screen, orientation, dist_goal, self.actor(screen, orientation, dist_goal)).mean()\n",
        "\n",
        "        self.actor_optimizer.zero_grad()\n",
        "        actor_loss.backward()\n",
        "        self.actor_optimizer.step()        \n",
        "        \n",
        "        # Step 14: Still once every two iterations, we update the weights of the Actor target by polyak averaging\n",
        "        for param, target_param in zip(self.actor.parameters(), self.actor_target.parameters()):\n",
        "          target_param.data.copy_(tau * param.data + (1 - tau) * target_param.data)\n",
        "        \n",
        "        # Step 15: Still once every two iterations, we update the weights of the Critic target by polyak averaging\n",
        "        for param, target_param in zip(self.critic.parameters(), self.critic_target.parameters()):\n",
        "          target_param.data.copy_(tau * param.data + (1 - tau) * target_param.data)\n",
        "    \n",
        "    #Compute change in weights after the training iterations\n",
        "    actor_conv1_total_change = torch.sum( (torch.abs(self.actor.conv1.weight.data - actor_conv1_frozen) ) ).detach().cpu().numpy().flatten()[0]\n",
        "    actor_conv2_total_change = torch.sum( (torch.abs(self.actor.conv2.weight.data - actor_conv2_frozen) ) ).detach().cpu().numpy().flatten()[0]\n",
        "    actor_head_total_change = torch.sum( (torch.abs(self.actor.head.weight.data - actor_head_frozen) ) ).detach().cpu().numpy().flatten()[0]\n",
        "\n",
        "    print(\"Actor Conv 1 total change: \", actor_conv1_total_change )\n",
        "    print(\"Actor Conv 2 total change: \", actor_conv2_total_change )\n",
        "    print(\"Actor head total change: \", actor_head_total_change )\n",
        "  \n",
        "  # Making a save method to save a trained model\n",
        "  def save(self, filename, directory):\n",
        "    torch.save(self.actor.state_dict(), '%s/%s_actor.pth' % (directory, filename))\n",
        "    torch.save(self.critic.state_dict(), '%s/%s_critic.pth' % (directory, filename))\n",
        "  \n",
        "  # Making a load method to load a pre-trained model\n",
        "  def load(self, filename, directory):\n",
        "    self.actor.load_state_dict(torch.load('%s/%s_actor.pth' % (directory, filename)))\n",
        "    self.critic.load_state_dict(torch.load('%s/%s_critic.pth' % (directory, filename)))"
      ],
      "execution_count": 0,
      "outputs": []
    },
    {
      "cell_type": "markdown",
      "metadata": {
        "id": "jP1Fz8VIuOXS",
        "colab_type": "text"
      },
      "source": [
        "# Generic helper functions"
      ]
    },
    {
      "cell_type": "code",
      "metadata": {
        "id": "Zyg0Ovf4uOXU",
        "colab_type": "code",
        "colab": {}
      },
      "source": [
        "def mkdir(base, name):\n",
        "    path = os.path.join(base, name)\n",
        "    if not os.path.exists(path):\n",
        "        os.makedirs(path)\n",
        "    return path"
      ],
      "execution_count": 0,
      "outputs": []
    },
    {
      "cell_type": "markdown",
      "metadata": {
        "id": "aoGE7cekuOYG",
        "colab_type": "text"
      },
      "source": [
        "# Env declaration and variable setup"
      ]
    },
    {
      "cell_type": "code",
      "metadata": {
        "id": "BgmD5x8DuOYT",
        "colab_type": "code",
        "outputId": "7086e589-7e73-40e6-af73-3c09980ac38a",
        "colab": {
          "base_uri": "https://localhost:8080/",
          "height": 121
        }
      },
      "source": [
        "# Selecting the device (CPU or GPU)\n",
        "device = torch.device(\"cuda\" if torch.cuda.is_available() else \"cpu\")\n",
        "\n",
        "#Setting params\n",
        "env_name = \"CityMap\"\n",
        "seed = 0 # Random seed number\n",
        "start_timesteps = 1e4 # Number of iterations/timesteps before which the model randomly chooses an action, and after which it starts to use the policy network\n",
        "eval_freq = 3e4 # How often the evaluation step is performed (after how many timesteps)\n",
        "max_timesteps = 5e5 # Total number of iterations/timesteps\n",
        "save_models = True # Boolean checker whether or not to save the pre-trained model\n",
        "expl_noise = (0.2*np.pi)/(2.7*180) # Exploration noise - STD value of exploration Gaussian noise\n",
        "batch_size = 100 # Size of the batch\n",
        "discount = 0.99 # Discount factor gamma, used in the calculation of the total discounted reward\n",
        "tau = 0.005 # Target network update rate\n",
        "policy_noise = (0.2*np.pi)/(2.7*180) # STD of Gaussian noise added to the actions for the exploration purposes\n",
        "noise_clip = 0.5 # Maximum value of the Gaussian noise added to the actions (policy)\n",
        "policy_freq = 2 # Number of iterations to wait before the policy network (Actor model) is updated\n",
        "train_iterations = 1000 # Number of iterations to run the training cycle for each time an episide is over\n",
        "\n",
        "#File name for actor and critic model saved files\n",
        "file_name = \"%s_%s_%s\" % (\"TD3\", env_name, str(seed))\n",
        "print (\"---------------------------------------\")\n",
        "print (\"Settings: %s\" % (file_name))\n",
        "print (\"---------------------------------------\")\n",
        "\n",
        "#Create folder to save trained models\n",
        "if not os.path.exists(\"./results\"):\n",
        "  os.makedirs(\"./results\")\n",
        "if save_models and not os.path.exists(\"./pytorch_models\"):\n",
        "  os.makedirs(\"./pytorch_models\")\n",
        "\n",
        "#Create the environment\n",
        "citymap = Image.open(\"MASK1.png\")\n",
        "roadmask = Image.open(\"MASK1.png\").convert('L')\n",
        "car_image = Image.open(\"car_upright.png\")\n",
        "car_image_width, car_image_height = car_image.getbbox()[2:4]\n",
        "car_image_resized = car_image.resize( (int(car_image_width/2), int(car_image_height/2)) )\n",
        "\n",
        "work_dir = mkdir('exp', 'brs')\n",
        "monitor_dir = mkdir(work_dir, 'monitor')\n",
        "monitor_car_pov_dir = mkdir(work_dir, 'monitor_car_pov')\n",
        "\n",
        "env = CityMap(citymap, roadmask, car_image_resized)\n",
        "\n",
        "# Set seeds and get get info to initiate classes\n",
        "env.seed(seed)\n",
        "torch.manual_seed(seed)\n",
        "np.random.seed(seed)\n",
        "state_dim = env.observation_window_size\n",
        "action_dim = 1\n",
        "max_action = env.max_action\n",
        "\n",
        "#Create the policy network\n",
        "policy = TD3(state_dim, action_dim, max_action, device)\n",
        "\n",
        "#Create the experience replay buffer\n",
        "replay_buffer = ReplayBuffer(max_size = 5e5)\n",
        "\n",
        "#Initialise variables\n",
        "total_timesteps = 0\n",
        "timesteps_since_eval = 0\n",
        "episode_num = 0\n",
        "episode_timesteps = 1e3\n",
        "done = True\n",
        "t0 = time.time()"
      ],
      "execution_count": 0,
      "outputs": [
        {
          "output_type": "stream",
          "text": [
            "---------------------------------------\n",
            "Settings: TD3_CityMap_0\n",
            "---------------------------------------\n"
          ],
          "name": "stdout"
        },
        {
          "output_type": "stream",
          "text": [
            "/usr/local/lib/python3.6/dist-packages/gym/logger.py:30: UserWarning: \u001b[33mWARN: Box bound precision lowered by casting to float32\u001b[0m\n",
            "  warnings.warn(colorize('%s: %s'%('WARN', msg % args), 'yellow'))\n"
          ],
          "name": "stderr"
        }
      ]
    },
    {
      "cell_type": "code",
      "metadata": {
        "id": "zr6aJXXxZfsl",
        "colab_type": "code",
        "outputId": "731568ac-71f8-400c-8991-0b9587fe431c",
        "colab": {
          "base_uri": "https://localhost:8080/",
          "height": 34
        }
      },
      "source": [
        "device"
      ],
      "execution_count": 0,
      "outputs": [
        {
          "output_type": "execute_result",
          "data": {
            "text/plain": [
              "device(type='cuda')"
            ]
          },
          "metadata": {
            "tags": []
          },
          "execution_count": 7
        }
      ]
    },
    {
      "cell_type": "code",
      "metadata": {
        "id": "dF88u9Qfy7hE",
        "colab_type": "code",
        "outputId": "76c67e3c-1c9d-4fa1-e06b-e5412be46e0d",
        "colab": {
          "base_uri": "https://localhost:8080/",
          "height": 101
        }
      },
      "source": [
        "%%time\n",
        "#List for storing model evaluations\n",
        "evaluations = [evaluate_policy(policy, env)]\n",
        "evaluation_timesteps = [0]"
      ],
      "execution_count": 0,
      "outputs": [
        {
          "output_type": "stream",
          "text": [
            "---------------------------------------\n",
            "Average Reward over the Evaluation Step: -3744.871599\n",
            "---------------------------------------\n",
            "CPU times: user 12 s, sys: 71.8 ms, total: 12.1 s\n",
            "Wall time: 12.3 s\n"
          ],
          "name": "stdout"
        }
      ]
    },
    {
      "cell_type": "markdown",
      "metadata": {
        "id": "c2zusv5ZuOZJ",
        "colab_type": "text"
      },
      "source": [
        "# Training"
      ]
    },
    {
      "cell_type": "code",
      "metadata": {
        "id": "4mi8H2dguOZW",
        "colab_type": "code",
        "outputId": "040d71ad-c0cd-4064-8d38-7fef326d9ffa",
        "colab": {
          "base_uri": "https://localhost:8080/",
          "height": 1000
        }
      },
      "source": [
        "# We start the main loop over max_timesteps timesteps\n",
        "while total_timesteps < max_timesteps:\n",
        "  \n",
        "  # If the episode is done\n",
        "  if done:\n",
        "\n",
        "    # Complete the recording\n",
        "    # env.stats_recorder.save_complete()\n",
        "    # env.stats_recorder.done = True\n",
        "\n",
        "    # If we are not at the very beginning, we start the training process of the model\n",
        "    if total_timesteps != 0:\n",
        "      print(\"\\n\\nTotal Timesteps: {} Episode Num: {} Episode length: {} Reward: {}\".format(total_timesteps, episode_num, episode_timesteps, episode_reward))\n",
        "      policy.train(replay_buffer, episode_timesteps, batch_size, discount, tau, policy_noise, noise_clip, policy_freq)\n",
        "\n",
        "    # We evaluate the episode and we save the policy\n",
        "    if timesteps_since_eval >= eval_freq:\n",
        "      timesteps_since_eval %= eval_freq\n",
        "      evaluations.append(evaluate_policy(policy, env))\n",
        "      evaluation_timesteps.append(total_timesteps)\n",
        "      policy.save(file_name, directory=\"./pytorch_models\")\n",
        "      np.save(\"./results/%s\" % (file_name), evaluations)\n",
        "    \n",
        "    # When the training step is done, we reset the state of the environment\n",
        "    screen, orientation, dist_goal = env.reset()\n",
        "    \n",
        "    # Set the Done to False\n",
        "    done = False\n",
        "    \n",
        "    # Set rewards and episode timesteps to zero\n",
        "    episode_reward = 0\n",
        "    episode_timesteps = 0\n",
        "    episode_num += 1\n",
        "  \n",
        "  # Before start_timesteps timesteps, we play random actions\n",
        "  if total_timesteps < start_timesteps:\n",
        "    action = env.action_space.sample()[0]\n",
        "  else: # After 10000 timesteps, we switch to the model\n",
        "    action = policy.select_action((screen, orientation, dist_goal))\n",
        "    # If the explore_noise parameter is not 0, we add noise to the action and we clip it\n",
        "    if expl_noise != 0:\n",
        "      action = np.clip( (action + np.random.normal(0, expl_noise)), env.action_space.low, env.action_space.high)[0]\n",
        "      # np.clip returns an array. We need a scalar. Hence taking the first element\n",
        "  \n",
        "  # The agent performs the action in the environment, then reaches the next state and receives the reward\n",
        "  (new_screen, new_orientation, new_dist_goal), reward, done, _ = env.step(action)\n",
        "\n",
        "  # We check if the episode is done\n",
        "  done_bool = 1 if episode_timesteps + 1 == env.max_episode_steps else float(done)\n",
        "  done = bool(done_bool)\n",
        "\n",
        "  # We increase the total reward\n",
        "  episode_reward += reward\n",
        "  \n",
        "  # We store the new transition into the Experience Replay memory (ReplayBuffer)\n",
        "  replay_buffer.add((screen, orientation, dist_goal, new_screen, new_orientation, new_dist_goal, action, reward, done_bool))\n",
        "\n",
        "  # We update the state, the episode timestep, the total timesteps, and the timesteps since the evaluation of the policy\n",
        "  screen = new_screen\n",
        "  orientation = new_orientation\n",
        "  dist_goal = new_dist_goal\n",
        "  episode_timesteps += 1\n",
        "  total_timesteps += 1\n",
        "  timesteps_since_eval += 1\n",
        "\n",
        "env.close()\n",
        "# Complete the recording\n",
        "# env.stats_recorder.save_complete()\n",
        "# env.stats_recorder.done = True\n",
        "\n",
        "# We add the last policy evaluation to our list of evaluations and we save our model\n",
        "evaluations.append(evaluate_policy(policy, env))\n",
        "evaluation_timesteps.append(total_timesteps)\n",
        "\n",
        "if save_models: policy.save(\"%s\" % (file_name), directory=\"./pytorch_models\")\n",
        "np.save(\"./results/%s\" % (file_name), evaluations)"
      ],
      "execution_count": 0,
      "outputs": [
        {
          "output_type": "stream",
          "text": [
            "\rTD3 train function loop:   0%|          | 0/400 [00:00<?, ?it/s]"
          ],
          "name": "stderr"
        },
        {
          "output_type": "stream",
          "text": [
            "\n",
            "\n",
            "Total Timesteps: 400 Episode Num: 1 Episode length: 400 Reward: -366134.57628045866\n"
          ],
          "name": "stdout"
        },
        {
          "output_type": "stream",
          "text": [
            "TD3 train function loop: 100%|██████████| 400/400 [00:20<00:00, 19.07it/s]\n"
          ],
          "name": "stderr"
        },
        {
          "output_type": "stream",
          "text": [
            "Actor Conv 1 total change:  0.0\n",
            "Actor Conv 2 total change:  0.0\n",
            "Actor head total change:  0.0\n"
          ],
          "name": "stdout"
        },
        {
          "output_type": "stream",
          "text": [
            "TD3 train function loop:   0%|          | 2/1712 [00:00<01:25, 19.90it/s]"
          ],
          "name": "stderr"
        },
        {
          "output_type": "stream",
          "text": [
            "\n",
            "\n",
            "Total Timesteps: 2112 Episode Num: 2 Episode length: 1712 Reward: -1176749.0687676207\n"
          ],
          "name": "stdout"
        },
        {
          "output_type": "stream",
          "text": [
            "TD3 train function loop: 100%|██████████| 1712/1712 [01:28<00:00, 19.32it/s]\n",
            "TD3 train function loop:   0%|          | 0/422 [00:00<?, ?it/s]"
          ],
          "name": "stderr"
        },
        {
          "output_type": "stream",
          "text": [
            "Actor Conv 1 total change:  0.0\n",
            "Actor Conv 2 total change:  0.0\n",
            "Actor head total change:  0.0\n",
            "\n",
            "\n",
            "Total Timesteps: 2534 Episode Num: 3 Episode length: 422 Reward: -344016.1798729456\n"
          ],
          "name": "stdout"
        },
        {
          "output_type": "stream",
          "text": [
            "TD3 train function loop: 100%|██████████| 422/422 [00:21<00:00, 19.43it/s]\n",
            "TD3 train function loop:   0%|          | 0/515 [00:00<?, ?it/s]"
          ],
          "name": "stderr"
        },
        {
          "output_type": "stream",
          "text": [
            "Actor Conv 1 total change:  0.24792907\n",
            "Actor Conv 2 total change:  1.2417815\n",
            "Actor head total change:  0.6235959\n",
            "\n",
            "\n",
            "Total Timesteps: 3049 Episode Num: 4 Episode length: 515 Reward: -461251.48870979523\n"
          ],
          "name": "stdout"
        },
        {
          "output_type": "stream",
          "text": [
            "TD3 train function loop: 100%|██████████| 515/515 [00:26<00:00, 19.25it/s]\n",
            "TD3 train function loop:   2%|▏         | 2/114 [00:00<00:05, 19.24it/s]"
          ],
          "name": "stderr"
        },
        {
          "output_type": "stream",
          "text": [
            "Actor Conv 1 total change:  0.0\n",
            "Actor Conv 2 total change:  0.0\n",
            "Actor head total change:  0.0\n",
            "\n",
            "\n",
            "Total Timesteps: 3163 Episode Num: 5 Episode length: 114 Reward: 120.54651596660797\n"
          ],
          "name": "stdout"
        },
        {
          "output_type": "stream",
          "text": [
            "TD3 train function loop: 100%|██████████| 114/114 [00:06<00:00, 18.99it/s]\n",
            "TD3 train function loop:   0%|          | 0/514 [00:00<?, ?it/s]"
          ],
          "name": "stderr"
        },
        {
          "output_type": "stream",
          "text": [
            "Actor Conv 1 total change:  1.4065971\n",
            "Actor Conv 2 total change:  8.4422245\n",
            "Actor head total change:  3.8583417\n",
            "\n",
            "\n",
            "Total Timesteps: 3677 Episode Num: 6 Episode length: 514 Reward: -63245.02363570762\n"
          ],
          "name": "stdout"
        },
        {
          "output_type": "stream",
          "text": [
            "TD3 train function loop: 100%|██████████| 514/514 [00:27<00:00, 18.95it/s]\n"
          ],
          "name": "stderr"
        },
        {
          "output_type": "stream",
          "text": [
            "Actor Conv 1 total change:  0.04677741\n",
            "Actor Conv 2 total change:  0.42588714\n",
            "Actor head total change:  0.05265089\n"
          ],
          "name": "stdout"
        },
        {
          "output_type": "stream",
          "text": [
            "TD3 train function loop:   0%|          | 2/1124 [00:00<01:04, 17.38it/s]"
          ],
          "name": "stderr"
        },
        {
          "output_type": "stream",
          "text": [
            "\n",
            "\n",
            "Total Timesteps: 4801 Episode Num: 7 Episode length: 1124 Reward: -822266.9352931727\n"
          ],
          "name": "stdout"
        },
        {
          "output_type": "stream",
          "text": [
            "TD3 train function loop: 100%|██████████| 1124/1124 [00:59<00:00, 18.94it/s]\n"
          ],
          "name": "stderr"
        },
        {
          "output_type": "stream",
          "text": [
            "Actor Conv 1 total change:  0.063879885\n",
            "Actor Conv 2 total change:  0.72414315\n",
            "Actor head total change:  0.023935523\n"
          ],
          "name": "stdout"
        },
        {
          "output_type": "stream",
          "text": [
            "TD3 train function loop:   0%|          | 2/894 [00:00<00:45, 19.77it/s]"
          ],
          "name": "stderr"
        },
        {
          "output_type": "stream",
          "text": [
            "\n",
            "\n",
            "Total Timesteps: 5695 Episode Num: 8 Episode length: 894 Reward: -683920.25565411\n"
          ],
          "name": "stdout"
        },
        {
          "output_type": "stream",
          "text": [
            "TD3 train function loop: 100%|██████████| 894/894 [00:46<00:00, 19.42it/s]\n",
            "TD3 train function loop:   0%|          | 0/414 [00:00<?, ?it/s]"
          ],
          "name": "stderr"
        },
        {
          "output_type": "stream",
          "text": [
            "Actor Conv 1 total change:  0.013881625\n",
            "Actor Conv 2 total change:  0.24823493\n",
            "Actor head total change:  0.009312656\n",
            "\n",
            "\n",
            "Total Timesteps: 6109 Episode Num: 9 Episode length: 414 Reward: -60221.29750345129\n"
          ],
          "name": "stdout"
        },
        {
          "output_type": "stream",
          "text": [
            "TD3 train function loop: 100%|██████████| 414/414 [00:21<00:00, 19.47it/s]\n"
          ],
          "name": "stderr"
        },
        {
          "output_type": "stream",
          "text": [
            "Actor Conv 1 total change:  0.0063196383\n",
            "Actor Conv 2 total change:  0.074301265\n",
            "Actor head total change:  0.002875032\n"
          ],
          "name": "stdout"
        },
        {
          "output_type": "stream",
          "text": [
            "TD3 train function loop:   0%|          | 2/2500 [00:00<02:20, 17.72it/s]"
          ],
          "name": "stderr"
        },
        {
          "output_type": "stream",
          "text": [
            "\n",
            "\n",
            "Total Timesteps: 8609 Episode Num: 10 Episode length: 2500 Reward: -1922654.3198773994\n"
          ],
          "name": "stdout"
        },
        {
          "output_type": "stream",
          "text": [
            "TD3 train function loop: 100%|██████████| 2500/2500 [02:08<00:00, 19.41it/s]\n",
            "TD3 train function loop:   0%|          | 0/359 [00:00<?, ?it/s]"
          ],
          "name": "stderr"
        },
        {
          "output_type": "stream",
          "text": [
            "Actor Conv 1 total change:  0.019346882\n",
            "Actor Conv 2 total change:  0.39805374\n",
            "Actor head total change:  0.013228838\n",
            "\n",
            "\n",
            "Total Timesteps: 8968 Episode Num: 11 Episode length: 359 Reward: -99386.66988767192\n"
          ],
          "name": "stdout"
        },
        {
          "output_type": "stream",
          "text": [
            "TD3 train function loop: 100%|██████████| 359/359 [00:18<00:00, 19.87it/s]\n"
          ],
          "name": "stderr"
        },
        {
          "output_type": "stream",
          "text": [
            "Actor Conv 1 total change:  0.0017241846\n",
            "Actor Conv 2 total change:  0.029792033\n",
            "Actor head total change:  0.0012469612\n"
          ],
          "name": "stdout"
        },
        {
          "output_type": "stream",
          "text": [
            "TD3 train function loop:   0%|          | 3/2500 [00:00<02:06, 19.76it/s]"
          ],
          "name": "stderr"
        },
        {
          "output_type": "stream",
          "text": [
            "\n",
            "\n",
            "Total Timesteps: 11468 Episode Num: 12 Episode length: 2500 Reward: -781459.2377450472\n"
          ],
          "name": "stdout"
        },
        {
          "output_type": "stream",
          "text": [
            "TD3 train function loop: 100%|██████████| 2500/2500 [02:03<00:00, 20.23it/s]\n"
          ],
          "name": "stderr"
        },
        {
          "output_type": "stream",
          "text": [
            "Actor Conv 1 total change:  0.039442353\n",
            "Actor Conv 2 total change:  0.406153\n",
            "Actor head total change:  0.018178351\n"
          ],
          "name": "stdout"
        },
        {
          "output_type": "stream",
          "text": [
            "TD3 train function loop:   0%|          | 2/2500 [00:00<02:11, 18.98it/s]"
          ],
          "name": "stderr"
        },
        {
          "output_type": "stream",
          "text": [
            "\n",
            "\n",
            "Total Timesteps: 13968 Episode Num: 13 Episode length: 2500 Reward: -2814.101729677771\n"
          ],
          "name": "stdout"
        },
        {
          "output_type": "stream",
          "text": [
            "TD3 train function loop: 100%|██████████| 2500/2500 [02:03<00:00, 20.21it/s]\n"
          ],
          "name": "stderr"
        },
        {
          "output_type": "stream",
          "text": [
            "Actor Conv 1 total change:  0.11125992\n",
            "Actor Conv 2 total change:  1.1169283\n",
            "Actor head total change:  0.05115348\n"
          ],
          "name": "stdout"
        },
        {
          "output_type": "stream",
          "text": [
            "TD3 train function loop:   0%|          | 3/2339 [00:00<01:57, 19.87it/s]"
          ],
          "name": "stderr"
        },
        {
          "output_type": "stream",
          "text": [
            "\n",
            "\n",
            "Total Timesteps: 16307 Episode Num: 14 Episode length: 2339 Reward: -616.8958527881116\n"
          ],
          "name": "stdout"
        },
        {
          "output_type": "stream",
          "text": [
            "TD3 train function loop: 100%|██████████| 2339/2339 [01:54<00:00, 20.49it/s]\n"
          ],
          "name": "stderr"
        },
        {
          "output_type": "stream",
          "text": [
            "Actor Conv 1 total change:  0.35877228\n",
            "Actor Conv 2 total change:  4.287207\n",
            "Actor head total change:  0.94872946\n"
          ],
          "name": "stdout"
        },
        {
          "output_type": "stream",
          "text": [
            "TD3 train function loop:   0%|          | 2/2500 [00:00<02:08, 19.47it/s]"
          ],
          "name": "stderr"
        },
        {
          "output_type": "stream",
          "text": [
            "\n",
            "\n",
            "Total Timesteps: 18807 Episode Num: 15 Episode length: 2500 Reward: -3365.0368253127963\n"
          ],
          "name": "stdout"
        },
        {
          "output_type": "stream",
          "text": [
            "TD3 train function loop: 100%|██████████| 2500/2500 [02:03<00:00, 20.30it/s]\n"
          ],
          "name": "stderr"
        },
        {
          "output_type": "stream",
          "text": [
            "Actor Conv 1 total change:  0.060000718\n",
            "Actor Conv 2 total change:  0.5605683\n",
            "Actor head total change:  0.22336186\n"
          ],
          "name": "stdout"
        },
        {
          "output_type": "stream",
          "text": [
            "TD3 train function loop:   0%|          | 2/2500 [00:00<02:05, 19.90it/s]"
          ],
          "name": "stderr"
        },
        {
          "output_type": "stream",
          "text": [
            "\n",
            "\n",
            "Total Timesteps: 21307 Episode Num: 16 Episode length: 2500 Reward: -1633.37145784318\n"
          ],
          "name": "stdout"
        },
        {
          "output_type": "stream",
          "text": [
            "TD3 train function loop: 100%|██████████| 2500/2500 [02:02<00:00, 20.48it/s]\n"
          ],
          "name": "stderr"
        },
        {
          "output_type": "stream",
          "text": [
            "Actor Conv 1 total change:  0.052405525\n",
            "Actor Conv 2 total change:  0.5566656\n",
            "Actor head total change:  0.26526627\n"
          ],
          "name": "stdout"
        },
        {
          "output_type": "stream",
          "text": [
            "TD3 train function loop:   0%|          | 3/2500 [00:00<02:02, 20.34it/s]"
          ],
          "name": "stderr"
        },
        {
          "output_type": "stream",
          "text": [
            "\n",
            "\n",
            "Total Timesteps: 23807 Episode Num: 17 Episode length: 2500 Reward: -69233.02934977767\n"
          ],
          "name": "stdout"
        },
        {
          "output_type": "stream",
          "text": [
            "TD3 train function loop: 100%|██████████| 2500/2500 [02:02<00:00, 20.47it/s]\n"
          ],
          "name": "stderr"
        },
        {
          "output_type": "stream",
          "text": [
            "Actor Conv 1 total change:  0.058539018\n",
            "Actor Conv 2 total change:  0.65373504\n",
            "Actor head total change:  0.30145827\n"
          ],
          "name": "stdout"
        },
        {
          "output_type": "stream",
          "text": [
            "TD3 train function loop:   0%|          | 3/2500 [00:00<02:03, 20.24it/s]"
          ],
          "name": "stderr"
        },
        {
          "output_type": "stream",
          "text": [
            "\n",
            "\n",
            "Total Timesteps: 26307 Episode Num: 18 Episode length: 2500 Reward: -69691.54078315408\n"
          ],
          "name": "stdout"
        },
        {
          "output_type": "stream",
          "text": [
            "TD3 train function loop: 100%|██████████| 2500/2500 [02:00<00:00, 20.75it/s]\n"
          ],
          "name": "stderr"
        },
        {
          "output_type": "stream",
          "text": [
            "Actor Conv 1 total change:  0.0712157\n",
            "Actor Conv 2 total change:  0.6326574\n",
            "Actor head total change:  0.32741517\n"
          ],
          "name": "stdout"
        },
        {
          "output_type": "stream",
          "text": [
            "TD3 train function loop:   0%|          | 3/2500 [00:00<02:02, 20.47it/s]"
          ],
          "name": "stderr"
        },
        {
          "output_type": "stream",
          "text": [
            "\n",
            "\n",
            "Total Timesteps: 28807 Episode Num: 19 Episode length: 2500 Reward: -8409.530584794873\n"
          ],
          "name": "stdout"
        },
        {
          "output_type": "stream",
          "text": [
            "TD3 train function loop: 100%|██████████| 2500/2500 [02:03<00:00, 20.27it/s]\n",
            "TD3 train function loop:  14%|█▍        | 3/21 [00:00<00:00, 20.33it/s]"
          ],
          "name": "stderr"
        },
        {
          "output_type": "stream",
          "text": [
            "Actor Conv 1 total change:  0.0513215\n",
            "Actor Conv 2 total change:  0.3655808\n",
            "Actor head total change:  0.16750503\n",
            "\n",
            "\n",
            "Total Timesteps: 28828 Episode Num: 20 Episode length: 21 Reward: 103.88291457482815\n"
          ],
          "name": "stdout"
        },
        {
          "output_type": "stream",
          "text": [
            "TD3 train function loop: 100%|██████████| 21/21 [00:01<00:00, 20.12it/s]\n"
          ],
          "name": "stderr"
        },
        {
          "output_type": "stream",
          "text": [
            "Actor Conv 1 total change:  0.0018951343\n",
            "Actor Conv 2 total change:  0.021016214\n",
            "Actor head total change:  0.0010843053\n"
          ],
          "name": "stdout"
        },
        {
          "output_type": "stream",
          "text": [
            "TD3 train function loop:   0%|          | 3/2500 [00:00<02:07, 19.60it/s]"
          ],
          "name": "stderr"
        },
        {
          "output_type": "stream",
          "text": [
            "\n",
            "\n",
            "Total Timesteps: 31328 Episode Num: 21 Episode length: 2500 Reward: -8567.097836918172\n"
          ],
          "name": "stdout"
        },
        {
          "output_type": "stream",
          "text": [
            "TD3 train function loop: 100%|██████████| 2500/2500 [02:00<00:00, 20.70it/s]\n"
          ],
          "name": "stderr"
        },
        {
          "output_type": "stream",
          "text": [
            "Actor Conv 1 total change:  0.075380534\n",
            "Actor Conv 2 total change:  1.0231817\n",
            "Actor head total change:  0.21351233\n",
            "---------------------------------------\n",
            "Average Reward over the Evaluation Step: -48615.379397\n",
            "---------------------------------------\n"
          ],
          "name": "stdout"
        },
        {
          "output_type": "stream",
          "text": [
            "TD3 train function loop:   0%|          | 2/2500 [00:00<02:06, 19.81it/s]"
          ],
          "name": "stderr"
        },
        {
          "output_type": "stream",
          "text": [
            "\n",
            "\n",
            "Total Timesteps: 33828 Episode Num: 22 Episode length: 2500 Reward: -6345.4728217920365\n"
          ],
          "name": "stdout"
        },
        {
          "output_type": "stream",
          "text": [
            "TD3 train function loop: 100%|██████████| 2500/2500 [02:04<00:00, 20.07it/s]\n"
          ],
          "name": "stderr"
        },
        {
          "output_type": "stream",
          "text": [
            "Actor Conv 1 total change:  0.049798656\n",
            "Actor Conv 2 total change:  0.53530234\n",
            "Actor head total change:  0.11170448\n"
          ],
          "name": "stdout"
        },
        {
          "output_type": "stream",
          "text": [
            "TD3 train function loop:   0%|          | 3/2500 [00:00<02:02, 20.40it/s]"
          ],
          "name": "stderr"
        },
        {
          "output_type": "stream",
          "text": [
            "\n",
            "\n",
            "Total Timesteps: 36328 Episode Num: 23 Episode length: 2500 Reward: -3244.024152959196\n"
          ],
          "name": "stdout"
        },
        {
          "output_type": "stream",
          "text": [
            "TD3 train function loop: 100%|██████████| 2500/2500 [02:04<00:00, 20.09it/s]\n"
          ],
          "name": "stderr"
        },
        {
          "output_type": "stream",
          "text": [
            "Actor Conv 1 total change:  0.07387913\n",
            "Actor Conv 2 total change:  0.59979\n",
            "Actor head total change:  0.13088226\n"
          ],
          "name": "stdout"
        },
        {
          "output_type": "stream",
          "text": [
            "TD3 train function loop:   0%|          | 3/2500 [00:00<02:05, 19.90it/s]"
          ],
          "name": "stderr"
        },
        {
          "output_type": "stream",
          "text": [
            "\n",
            "\n",
            "Total Timesteps: 38828 Episode Num: 24 Episode length: 2500 Reward: -5419.446009164249\n"
          ],
          "name": "stdout"
        },
        {
          "output_type": "stream",
          "text": [
            "TD3 train function loop: 100%|██████████| 2500/2500 [02:03<00:00, 20.32it/s]\n"
          ],
          "name": "stderr"
        },
        {
          "output_type": "stream",
          "text": [
            "Actor Conv 1 total change:  0.04319266\n",
            "Actor Conv 2 total change:  0.49916422\n",
            "Actor head total change:  0.09623495\n"
          ],
          "name": "stdout"
        },
        {
          "output_type": "stream",
          "text": [
            "TD3 train function loop:   0%|          | 3/2500 [00:00<02:03, 20.15it/s]"
          ],
          "name": "stderr"
        },
        {
          "output_type": "stream",
          "text": [
            "\n",
            "\n",
            "Total Timesteps: 41328 Episode Num: 25 Episode length: 2500 Reward: -3352.426910418221\n"
          ],
          "name": "stdout"
        },
        {
          "output_type": "stream",
          "text": [
            "TD3 train function loop: 100%|██████████| 2500/2500 [02:03<00:00, 20.27it/s]\n"
          ],
          "name": "stderr"
        },
        {
          "output_type": "stream",
          "text": [
            "Actor Conv 1 total change:  0.046597987\n",
            "Actor Conv 2 total change:  0.5889816\n",
            "Actor head total change:  0.16483805\n"
          ],
          "name": "stdout"
        },
        {
          "output_type": "stream",
          "text": [
            "TD3 train function loop:   0%|          | 2/2500 [00:00<02:05, 19.89it/s]"
          ],
          "name": "stderr"
        },
        {
          "output_type": "stream",
          "text": [
            "\n",
            "\n",
            "Total Timesteps: 43828 Episode Num: 26 Episode length: 2500 Reward: -5370.318309860621\n"
          ],
          "name": "stdout"
        },
        {
          "output_type": "stream",
          "text": [
            "TD3 train function loop: 100%|██████████| 2500/2500 [02:00<00:00, 20.82it/s]\n"
          ],
          "name": "stderr"
        },
        {
          "output_type": "stream",
          "text": [
            "Actor Conv 1 total change:  0.07959764\n",
            "Actor Conv 2 total change:  0.5784153\n",
            "Actor head total change:  0.12115194\n"
          ],
          "name": "stdout"
        },
        {
          "output_type": "stream",
          "text": [
            "TD3 train function loop:   0%|          | 3/2500 [00:00<02:04, 20.07it/s]"
          ],
          "name": "stderr"
        },
        {
          "output_type": "stream",
          "text": [
            "\n",
            "\n",
            "Total Timesteps: 46328 Episode Num: 27 Episode length: 2500 Reward: -16237.90184628305\n"
          ],
          "name": "stdout"
        },
        {
          "output_type": "stream",
          "text": [
            "TD3 train function loop: 100%|██████████| 2500/2500 [02:04<00:00, 20.06it/s]\n"
          ],
          "name": "stderr"
        },
        {
          "output_type": "stream",
          "text": [
            "Actor Conv 1 total change:  0.19014587\n",
            "Actor Conv 2 total change:  0.8232739\n",
            "Actor head total change:  0.24081545\n"
          ],
          "name": "stdout"
        },
        {
          "output_type": "stream",
          "text": [
            "TD3 train function loop:   0%|          | 2/2500 [00:00<02:11, 18.99it/s]"
          ],
          "name": "stderr"
        },
        {
          "output_type": "stream",
          "text": [
            "\n",
            "\n",
            "Total Timesteps: 48828 Episode Num: 28 Episode length: 2500 Reward: -177475.93154695723\n"
          ],
          "name": "stdout"
        },
        {
          "output_type": "stream",
          "text": [
            "TD3 train function loop: 100%|██████████| 2500/2500 [02:02<00:00, 20.49it/s]\n"
          ],
          "name": "stderr"
        },
        {
          "output_type": "stream",
          "text": [
            "Actor Conv 1 total change:  0.101592794\n",
            "Actor Conv 2 total change:  0.4954302\n",
            "Actor head total change:  0.13609615\n"
          ],
          "name": "stdout"
        },
        {
          "output_type": "stream",
          "text": [
            "TD3 train function loop:   0%|          | 2/2500 [00:00<02:06, 19.74it/s]"
          ],
          "name": "stderr"
        },
        {
          "output_type": "stream",
          "text": [
            "\n",
            "\n",
            "Total Timesteps: 51328 Episode Num: 29 Episode length: 2500 Reward: -30525.972003520754\n"
          ],
          "name": "stdout"
        },
        {
          "output_type": "stream",
          "text": [
            "TD3 train function loop: 100%|██████████| 2500/2500 [02:03<00:00, 20.26it/s]\n"
          ],
          "name": "stderr"
        },
        {
          "output_type": "stream",
          "text": [
            "Actor Conv 1 total change:  2.727611e-07\n",
            "Actor Conv 2 total change:  8.333009e-07\n",
            "Actor head total change:  1.5541445e-08\n"
          ],
          "name": "stdout"
        },
        {
          "output_type": "stream",
          "text": [
            "TD3 train function loop:   0%|          | 3/2500 [00:00<02:04, 20.05it/s]"
          ],
          "name": "stderr"
        },
        {
          "output_type": "stream",
          "text": [
            "\n",
            "\n",
            "Total Timesteps: 53828 Episode Num: 30 Episode length: 2500 Reward: -96544.16640606019\n"
          ],
          "name": "stdout"
        },
        {
          "output_type": "stream",
          "text": [
            "TD3 train function loop: 100%|██████████| 2500/2500 [02:03<00:00, 20.23it/s]\n"
          ],
          "name": "stderr"
        },
        {
          "output_type": "stream",
          "text": [
            "Actor Conv 1 total change:  0.0\n",
            "Actor Conv 2 total change:  0.0\n",
            "Actor head total change:  0.0\n"
          ],
          "name": "stdout"
        },
        {
          "output_type": "stream",
          "text": [
            "TD3 train function loop:   0%|          | 2/2500 [00:00<02:13, 18.67it/s]"
          ],
          "name": "stderr"
        },
        {
          "output_type": "stream",
          "text": [
            "\n",
            "\n",
            "Total Timesteps: 56328 Episode Num: 31 Episode length: 2500 Reward: -8330.11008208983\n"
          ],
          "name": "stdout"
        },
        {
          "output_type": "stream",
          "text": [
            "TD3 train function loop: 100%|██████████| 2500/2500 [02:02<00:00, 20.33it/s]\n"
          ],
          "name": "stderr"
        },
        {
          "output_type": "stream",
          "text": [
            "Actor Conv 1 total change:  0.0\n",
            "Actor Conv 2 total change:  0.0\n",
            "Actor head total change:  0.0\n"
          ],
          "name": "stdout"
        },
        {
          "output_type": "stream",
          "text": [
            "TD3 train function loop:   0%|          | 3/2500 [00:00<02:02, 20.43it/s]"
          ],
          "name": "stderr"
        },
        {
          "output_type": "stream",
          "text": [
            "\n",
            "\n",
            "Total Timesteps: 58828 Episode Num: 32 Episode length: 2500 Reward: -7783.4488414239095\n"
          ],
          "name": "stdout"
        },
        {
          "output_type": "stream",
          "text": [
            "TD3 train function loop: 100%|██████████| 2500/2500 [02:03<00:00, 20.32it/s]\n"
          ],
          "name": "stderr"
        },
        {
          "output_type": "stream",
          "text": [
            "Actor Conv 1 total change:  0.0\n",
            "Actor Conv 2 total change:  0.0\n",
            "Actor head total change:  0.0\n"
          ],
          "name": "stdout"
        },
        {
          "output_type": "stream",
          "text": [
            "TD3 train function loop:   0%|          | 2/2500 [00:00<02:06, 19.71it/s]"
          ],
          "name": "stderr"
        },
        {
          "output_type": "stream",
          "text": [
            "\n",
            "\n",
            "Total Timesteps: 61328 Episode Num: 33 Episode length: 2500 Reward: -6251.377584854878\n"
          ],
          "name": "stdout"
        },
        {
          "output_type": "stream",
          "text": [
            "TD3 train function loop: 100%|██████████| 2500/2500 [02:03<00:00, 20.22it/s]\n"
          ],
          "name": "stderr"
        },
        {
          "output_type": "stream",
          "text": [
            "Actor Conv 1 total change:  0.06829145\n",
            "Actor Conv 2 total change:  0.33626986\n",
            "Actor head total change:  0.09173908\n",
            "---------------------------------------\n",
            "Average Reward over the Evaluation Step: -3160.452688\n",
            "---------------------------------------\n"
          ],
          "name": "stdout"
        },
        {
          "output_type": "stream",
          "text": [
            "TD3 train function loop:   0%|          | 3/2500 [00:00<02:04, 20.02it/s]"
          ],
          "name": "stderr"
        },
        {
          "output_type": "stream",
          "text": [
            "\n",
            "\n",
            "Total Timesteps: 63828 Episode Num: 34 Episode length: 2500 Reward: -10451.895720049035\n"
          ],
          "name": "stdout"
        },
        {
          "output_type": "stream",
          "text": [
            "TD3 train function loop: 100%|██████████| 2500/2500 [02:03<00:00, 20.23it/s]\n"
          ],
          "name": "stderr"
        },
        {
          "output_type": "stream",
          "text": [
            "Actor Conv 1 total change:  0.001755324\n",
            "Actor Conv 2 total change:  0.008636873\n",
            "Actor head total change:  0.0023593744\n"
          ],
          "name": "stdout"
        },
        {
          "output_type": "stream",
          "text": [
            "TD3 train function loop:   0%|          | 3/2500 [00:00<02:02, 20.44it/s]"
          ],
          "name": "stderr"
        },
        {
          "output_type": "stream",
          "text": [
            "\n",
            "\n",
            "Total Timesteps: 66328 Episode Num: 35 Episode length: 2500 Reward: -3234.6241287929947\n"
          ],
          "name": "stdout"
        },
        {
          "output_type": "stream",
          "text": [
            "TD3 train function loop: 100%|██████████| 2500/2500 [02:01<00:00, 20.50it/s]\n"
          ],
          "name": "stderr"
        },
        {
          "output_type": "stream",
          "text": [
            "Actor Conv 1 total change:  0.0\n",
            "Actor Conv 2 total change:  0.0\n",
            "Actor head total change:  0.0\n"
          ],
          "name": "stdout"
        },
        {
          "output_type": "stream",
          "text": [
            "TD3 train function loop:   0%|          | 2/2500 [00:00<02:15, 18.39it/s]"
          ],
          "name": "stderr"
        },
        {
          "output_type": "stream",
          "text": [
            "\n",
            "\n",
            "Total Timesteps: 68828 Episode Num: 36 Episode length: 2500 Reward: -2426.0091989533935\n"
          ],
          "name": "stdout"
        },
        {
          "output_type": "stream",
          "text": [
            "TD3 train function loop: 100%|██████████| 2500/2500 [02:06<00:00, 19.73it/s]\n"
          ],
          "name": "stderr"
        },
        {
          "output_type": "stream",
          "text": [
            "Actor Conv 1 total change:  0.0\n",
            "Actor Conv 2 total change:  0.0\n",
            "Actor head total change:  0.0\n"
          ],
          "name": "stdout"
        },
        {
          "output_type": "stream",
          "text": [
            "TD3 train function loop:   0%|          | 2/2500 [00:00<02:14, 18.62it/s]"
          ],
          "name": "stderr"
        },
        {
          "output_type": "stream",
          "text": [
            "\n",
            "\n",
            "Total Timesteps: 71328 Episode Num: 37 Episode length: 2500 Reward: -8487.794721339409\n"
          ],
          "name": "stdout"
        },
        {
          "output_type": "stream",
          "text": [
            "TD3 train function loop: 100%|██████████| 2500/2500 [02:05<00:00, 19.84it/s]\n"
          ],
          "name": "stderr"
        },
        {
          "output_type": "stream",
          "text": [
            "Actor Conv 1 total change:  0.0\n",
            "Actor Conv 2 total change:  0.0\n",
            "Actor head total change:  0.0\n"
          ],
          "name": "stdout"
        },
        {
          "output_type": "stream",
          "text": [
            "TD3 train function loop:   0%|          | 2/2500 [00:00<02:21, 17.69it/s]"
          ],
          "name": "stderr"
        },
        {
          "output_type": "stream",
          "text": [
            "\n",
            "\n",
            "Total Timesteps: 73828 Episode Num: 38 Episode length: 2500 Reward: -2467.997757962223\n"
          ],
          "name": "stdout"
        },
        {
          "output_type": "stream",
          "text": [
            "TD3 train function loop: 100%|██████████| 2500/2500 [02:08<00:00, 19.48it/s]\n"
          ],
          "name": "stderr"
        },
        {
          "output_type": "stream",
          "text": [
            "Actor Conv 1 total change:  0.0\n",
            "Actor Conv 2 total change:  0.0\n",
            "Actor head total change:  0.0\n"
          ],
          "name": "stdout"
        },
        {
          "output_type": "stream",
          "text": [
            "TD3 train function loop:   0%|          | 2/2500 [00:00<02:10, 19.20it/s]"
          ],
          "name": "stderr"
        },
        {
          "output_type": "stream",
          "text": [
            "\n",
            "\n",
            "Total Timesteps: 76328 Episode Num: 39 Episode length: 2500 Reward: -8095.290191027403\n"
          ],
          "name": "stdout"
        },
        {
          "output_type": "stream",
          "text": [
            "TD3 train function loop: 100%|██████████| 2500/2500 [02:12<00:00, 18.85it/s]\n"
          ],
          "name": "stderr"
        },
        {
          "output_type": "stream",
          "text": [
            "Actor Conv 1 total change:  0.0\n",
            "Actor Conv 2 total change:  0.0\n",
            "Actor head total change:  0.0\n"
          ],
          "name": "stdout"
        },
        {
          "output_type": "stream",
          "text": [
            "TD3 train function loop:   0%|          | 2/2500 [00:00<02:19, 17.95it/s]"
          ],
          "name": "stderr"
        },
        {
          "output_type": "stream",
          "text": [
            "\n",
            "\n",
            "Total Timesteps: 78828 Episode Num: 40 Episode length: 2500 Reward: -1973.323389823408\n"
          ],
          "name": "stdout"
        },
        {
          "output_type": "stream",
          "text": [
            "TD3 train function loop: 100%|██████████| 2500/2500 [02:10<00:00, 19.18it/s]\n"
          ],
          "name": "stderr"
        },
        {
          "output_type": "stream",
          "text": [
            "Actor Conv 1 total change:  0.0\n",
            "Actor Conv 2 total change:  0.0\n",
            "Actor head total change:  0.0\n"
          ],
          "name": "stdout"
        },
        {
          "output_type": "stream",
          "text": [
            "TD3 train function loop:   0%|          | 2/2500 [00:00<02:17, 18.15it/s]"
          ],
          "name": "stderr"
        },
        {
          "output_type": "stream",
          "text": [
            "\n",
            "\n",
            "Total Timesteps: 81328 Episode Num: 41 Episode length: 2500 Reward: -4020.089899393108\n"
          ],
          "name": "stdout"
        },
        {
          "output_type": "stream",
          "text": [
            "TD3 train function loop: 100%|██████████| 2500/2500 [02:11<00:00, 19.07it/s]\n"
          ],
          "name": "stderr"
        },
        {
          "output_type": "stream",
          "text": [
            "Actor Conv 1 total change:  0.0\n",
            "Actor Conv 2 total change:  0.0\n",
            "Actor head total change:  0.0\n"
          ],
          "name": "stdout"
        },
        {
          "output_type": "stream",
          "text": [
            "TD3 train function loop:   0%|          | 2/2500 [00:00<02:12, 18.80it/s]"
          ],
          "name": "stderr"
        },
        {
          "output_type": "stream",
          "text": [
            "\n",
            "\n",
            "Total Timesteps: 83828 Episode Num: 42 Episode length: 2500 Reward: -5032.813257271639\n"
          ],
          "name": "stdout"
        },
        {
          "output_type": "stream",
          "text": [
            "TD3 train function loop: 100%|██████████| 2500/2500 [02:10<00:00, 19.15it/s]\n"
          ],
          "name": "stderr"
        },
        {
          "output_type": "stream",
          "text": [
            "Actor Conv 1 total change:  0.0\n",
            "Actor Conv 2 total change:  0.0\n",
            "Actor head total change:  0.0\n"
          ],
          "name": "stdout"
        },
        {
          "output_type": "stream",
          "text": [
            "TD3 train function loop:   0%|          | 2/2500 [00:00<02:13, 18.73it/s]"
          ],
          "name": "stderr"
        },
        {
          "output_type": "stream",
          "text": [
            "\n",
            "\n",
            "Total Timesteps: 86328 Episode Num: 43 Episode length: 2500 Reward: -17828.51091546916\n"
          ],
          "name": "stdout"
        },
        {
          "output_type": "stream",
          "text": [
            "TD3 train function loop:  21%|██        | 514/2500 [00:27<01:44, 18.97it/s]"
          ],
          "name": "stderr"
        },
        {
          "output_type": "error",
          "ename": "KeyboardInterrupt",
          "evalue": "ignored",
          "traceback": [
            "\u001b[0;31m---------------------------------------------------------------------------\u001b[0m",
            "\u001b[0;31mKeyboardInterrupt\u001b[0m                         Traceback (most recent call last)",
            "\u001b[0;32m<ipython-input-9-6c3515b1cefa>\u001b[0m in \u001b[0;36m<module>\u001b[0;34m()\u001b[0m\n\u001b[1;32m     11\u001b[0m     \u001b[0;32mif\u001b[0m \u001b[0mtotal_timesteps\u001b[0m \u001b[0;34m!=\u001b[0m \u001b[0;36m0\u001b[0m\u001b[0;34m:\u001b[0m\u001b[0;34m\u001b[0m\u001b[0;34m\u001b[0m\u001b[0m\n\u001b[1;32m     12\u001b[0m       \u001b[0mprint\u001b[0m\u001b[0;34m(\u001b[0m\u001b[0;34m\"\\n\\nTotal Timesteps: {} Episode Num: {} Episode length: {} Reward: {}\"\u001b[0m\u001b[0;34m.\u001b[0m\u001b[0mformat\u001b[0m\u001b[0;34m(\u001b[0m\u001b[0mtotal_timesteps\u001b[0m\u001b[0;34m,\u001b[0m \u001b[0mepisode_num\u001b[0m\u001b[0;34m,\u001b[0m \u001b[0mepisode_timesteps\u001b[0m\u001b[0;34m,\u001b[0m \u001b[0mepisode_reward\u001b[0m\u001b[0;34m)\u001b[0m\u001b[0;34m)\u001b[0m\u001b[0;34m\u001b[0m\u001b[0;34m\u001b[0m\u001b[0m\n\u001b[0;32m---> 13\u001b[0;31m       \u001b[0mpolicy\u001b[0m\u001b[0;34m.\u001b[0m\u001b[0mtrain\u001b[0m\u001b[0;34m(\u001b[0m\u001b[0mreplay_buffer\u001b[0m\u001b[0;34m,\u001b[0m \u001b[0mepisode_timesteps\u001b[0m\u001b[0;34m,\u001b[0m \u001b[0mbatch_size\u001b[0m\u001b[0;34m,\u001b[0m \u001b[0mdiscount\u001b[0m\u001b[0;34m,\u001b[0m \u001b[0mtau\u001b[0m\u001b[0;34m,\u001b[0m \u001b[0mpolicy_noise\u001b[0m\u001b[0;34m,\u001b[0m \u001b[0mnoise_clip\u001b[0m\u001b[0;34m,\u001b[0m \u001b[0mpolicy_freq\u001b[0m\u001b[0;34m)\u001b[0m\u001b[0;34m\u001b[0m\u001b[0;34m\u001b[0m\u001b[0m\n\u001b[0m\u001b[1;32m     14\u001b[0m \u001b[0;34m\u001b[0m\u001b[0m\n\u001b[1;32m     15\u001b[0m     \u001b[0;31m# We evaluate the episode and we save the policy\u001b[0m\u001b[0;34m\u001b[0m\u001b[0;34m\u001b[0m\u001b[0;34m\u001b[0m\u001b[0m\n",
            "\u001b[0;32m<ipython-input-4-cad14e97e17f>\u001b[0m in \u001b[0;36mtrain\u001b[0;34m(self, replay_buffer, iterations, batch_size, discount, tau, policy_noise, noise_clip, policy_freq)\u001b[0m\n\u001b[1;32m    170\u001b[0m       \u001b[0;31m# Hence scalars go through a reshape(-1,1) ( eg: [1,2,3] to [[1],[2],[3]] )\u001b[0m\u001b[0;34m\u001b[0m\u001b[0;34m\u001b[0m\u001b[0;34m\u001b[0m\u001b[0m\n\u001b[1;32m    171\u001b[0m \u001b[0;34m\u001b[0m\u001b[0m\n\u001b[0;32m--> 172\u001b[0;31m       \u001b[0mscreen\u001b[0m \u001b[0;34m=\u001b[0m \u001b[0mtorch\u001b[0m\u001b[0;34m.\u001b[0m\u001b[0mTensor\u001b[0m\u001b[0;34m(\u001b[0m\u001b[0mbatch_screen\u001b[0m\u001b[0;34m)\u001b[0m\u001b[0;34m.\u001b[0m\u001b[0msqueeze\u001b[0m\u001b[0;34m(\u001b[0m\u001b[0;36m1\u001b[0m\u001b[0;34m)\u001b[0m\u001b[0;34m.\u001b[0m\u001b[0mto\u001b[0m\u001b[0;34m(\u001b[0m\u001b[0mself\u001b[0m\u001b[0;34m.\u001b[0m\u001b[0mdevice\u001b[0m\u001b[0;34m)\u001b[0m\u001b[0;34m\u001b[0m\u001b[0;34m\u001b[0m\u001b[0m\n\u001b[0m\u001b[1;32m    173\u001b[0m       \u001b[0morientation\u001b[0m \u001b[0;34m=\u001b[0m \u001b[0mtorch\u001b[0m\u001b[0;34m.\u001b[0m\u001b[0mTensor\u001b[0m\u001b[0;34m(\u001b[0m\u001b[0mbatch_orientation\u001b[0m\u001b[0;34m)\u001b[0m\u001b[0;34m.\u001b[0m\u001b[0mview\u001b[0m\u001b[0;34m(\u001b[0m\u001b[0;34m-\u001b[0m\u001b[0;36m1\u001b[0m\u001b[0;34m,\u001b[0m\u001b[0;36m1\u001b[0m\u001b[0;34m)\u001b[0m\u001b[0;34m.\u001b[0m\u001b[0mto\u001b[0m\u001b[0;34m(\u001b[0m\u001b[0mself\u001b[0m\u001b[0;34m.\u001b[0m\u001b[0mdevice\u001b[0m\u001b[0;34m)\u001b[0m \u001b[0;31m#Convert row vector to column vector eg: [1,2,3] to [[1],[2],[3]]\u001b[0m\u001b[0;34m\u001b[0m\u001b[0;34m\u001b[0m\u001b[0m\n\u001b[1;32m    174\u001b[0m       \u001b[0mdist_goal\u001b[0m \u001b[0;34m=\u001b[0m \u001b[0mtorch\u001b[0m\u001b[0;34m.\u001b[0m\u001b[0mTensor\u001b[0m\u001b[0;34m(\u001b[0m\u001b[0mbatch_dist_goal\u001b[0m\u001b[0;34m)\u001b[0m\u001b[0;34m.\u001b[0m\u001b[0mview\u001b[0m\u001b[0;34m(\u001b[0m\u001b[0;34m-\u001b[0m\u001b[0;36m1\u001b[0m\u001b[0;34m,\u001b[0m\u001b[0;36m1\u001b[0m\u001b[0;34m)\u001b[0m\u001b[0;34m.\u001b[0m\u001b[0mto\u001b[0m\u001b[0;34m(\u001b[0m\u001b[0mself\u001b[0m\u001b[0;34m.\u001b[0m\u001b[0mdevice\u001b[0m\u001b[0;34m)\u001b[0m \u001b[0;31m#Convert row vector to column vector eg: [1,2,3] to [[1],[2],[3]]\u001b[0m\u001b[0;34m\u001b[0m\u001b[0;34m\u001b[0m\u001b[0m\n",
            "\u001b[0;31mKeyboardInterrupt\u001b[0m: "
          ]
        }
      ]
    },
    {
      "cell_type": "markdown",
      "metadata": {
        "id": "pnQFT1FwuOZ2",
        "colab_type": "text"
      },
      "source": [
        "# Plot evaluation score over time"
      ]
    },
    {
      "cell_type": "code",
      "metadata": {
        "id": "owbXJ_PVuOZ5",
        "colab_type": "code",
        "outputId": "8c4587f9-0eeb-4180-f0c5-ac8643386e49",
        "colab": {
          "base_uri": "https://localhost:8080/",
          "height": 567
        }
      },
      "source": [
        "fig, ax = plt.subplots(1,1, figsize = (12,9))\n",
        "ax.plot( evaluation_timesteps, evaluations )\n",
        "ax.set_ylabel('Score')\n",
        "ax.set_xlabel('Timesteps')\n",
        "ax.set_title('Agent score vs iterations');"
      ],
      "execution_count": 0,
      "outputs": [
        {
          "output_type": "display_data",
          "data": {
            "image/png": "[encoded data removed]",
            "text/plain": [
              "<Figure size 864x648 with 1 Axes>"
            ]
          },
          "metadata": {
            "tags": [],
            "needs_background": "light"
          }
        }
      ]
    },
    {
      "cell_type": "markdown",
      "metadata": {
        "id": "ZvjGbqqk2Hf-",
        "colab_type": "text"
      },
      "source": [
        "# Inference"
      ]
    },
    {
      "cell_type": "code",
      "metadata": {
        "id": "IrzsQgYV2IY-",
        "colab_type": "code",
        "outputId": "e7c1a7e8-4976-49b7-e585-253b49df1dab",
        "colab": {
          "base_uri": "https://localhost:8080/",
          "height": 272
        }
      },
      "source": [
        "policy_inference = TD3(state_dim, action_dim, max_action, device)\n",
        "policy_inference.load(file_name, './pytorch_models/')\n",
        "\n",
        "env_inference = CityMap(citymap, roadmask, car_image_resized, render_pov = 'map')\n",
        "env_inference = wrappers.Monitor(env_inference, monitor_dir, force = True, video_callable=lambda episode_id: True)\n",
        "\n",
        "avg_reward_inference = evaluate_policy(policy_inference, env_inference, eval_episodes=3)\n",
        "print(\"Iter 1 avg reward: \", avg_reward_inference)\n",
        "\n",
        "# Wrapup recording\n",
        "env_inference.close()\n",
        "env_inference.stats_recorder.save_complete()\n",
        "env_inference.stats_recorder.done = True\n",
        "\n",
        "env_inference = CityMap(citymap, roadmask, car_image_resized, render_pov = 'car')\n",
        "env_inference = wrappers.Monitor(env_inference, monitor_car_pov_dir, force = True, video_callable=lambda episode_id: True)\n",
        "\n",
        "avg_reward_inference = evaluate_policy(policy_inference, env_inference, eval_episodes=3)\n",
        "print(\"Iter 2 avg reward: \", avg_reward_inference)\n",
        "\n",
        "# Wrapup recording\n",
        "env_inference.close()\n",
        "env_inference.stats_recorder.save_complete()\n",
        "env_inference.stats_recorder.done = True"
      ],
      "execution_count": 0,
      "outputs": [
        {
          "output_type": "stream",
          "text": [
            "/usr/local/lib/python3.6/dist-packages/gym/logger.py:30: UserWarning: \u001b[33mWARN: Box bound precision lowered by casting to float32\u001b[0m\n",
            "  warnings.warn(colorize('%s: %s'%('WARN', msg % args), 'yellow'))\n",
            "/usr/local/lib/python3.6/dist-packages/gym/logger.py:30: UserWarning: \u001b[33mWARN: Trying to monitor an environment which has no 'spec' set. This usually means you did not create it via 'gym.make', and is recommended only for advanced users.\u001b[0m\n",
            "  warnings.warn(colorize('%s: %s'%('WARN', msg % args), 'yellow'))\n"
          ],
          "name": "stderr"
        },
        {
          "output_type": "stream",
          "text": [
            "---------------------------------------\n",
            "Average Reward over the Evaluation Step: -20577.060258\n",
            "---------------------------------------\n",
            "Iter 1 avg reward:  -20577.060258386362\n"
          ],
          "name": "stdout"
        },
        {
          "output_type": "stream",
          "text": [
            "/usr/local/lib/python3.6/dist-packages/gym/logger.py:30: UserWarning: \u001b[33mWARN: Trying to monitor an environment which has no 'spec' set. This usually means you did not create it via 'gym.make', and is recommended only for advanced users.\u001b[0m\n",
            "  warnings.warn(colorize('%s: %s'%('WARN', msg % args), 'yellow'))\n"
          ],
          "name": "stderr"
        },
        {
          "output_type": "stream",
          "text": [
            "---------------------------------------\n",
            "Average Reward over the Evaluation Step: -19788.749159\n",
            "---------------------------------------\n",
            "Iter 2 avg reward:  -19788.7491594367\n"
          ],
          "name": "stdout"
        }
      ]
    }
  ]
}